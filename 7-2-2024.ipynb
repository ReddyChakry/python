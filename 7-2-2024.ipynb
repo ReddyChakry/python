{
 "cells": [
  {
   "cell_type": "code",
   "execution_count": 4,
   "id": "ede3bbf3",
   "metadata": {},
   "outputs": [
    {
     "data": {
      "text/plain": [
       "'B'"
      ]
     },
     "execution_count": 4,
     "metadata": {},
     "output_type": "execute_result"
    }
   ],
   "source": [
    "list1=[1,2,3,['A','B']]\n",
    "len(list1)\n",
    "list1[3]\n",
    "list1[3][1]"
   ]
  },
  {
   "cell_type": "code",
   "execution_count": 49,
   "id": "f5008749",
   "metadata": {},
   "outputs": [
    {
     "data": {
      "text/plain": [
       "'banana'"
      ]
     },
     "execution_count": 49,
     "metadata": {},
     "output_type": "execute_result"
    }
   ],
   "source": [
    "list2=[[\"apple\",\"banana\"]]\n",
    "len(list2)\n",
    "list2[0]\n",
    "list2[0][1]"
   ]
  },
  {
   "cell_type": "code",
   "execution_count": 50,
   "id": "4868eb13",
   "metadata": {},
   "outputs": [
    {
     "data": {
      "text/plain": [
       "20"
      ]
     },
     "execution_count": 50,
     "metadata": {},
     "output_type": "execute_result"
    }
   ],
   "source": [
    "list3=[[\"a\",\"b\",[1,20]]]\n",
    "len(list3)\n",
    "list3[0]\n",
    "list3[0][2]\n",
    "list3[0][2][1]"
   ]
  },
  {
   "cell_type": "code",
   "execution_count": 51,
   "id": "04dc8f15",
   "metadata": {},
   "outputs": [
    {
     "data": {
      "text/plain": [
       "2"
      ]
     },
     "execution_count": 51,
     "metadata": {},
     "output_type": "execute_result"
    }
   ],
   "source": [
    "list4=[\"hyd\",[\"a\",\"b\",[1,20]]]\n",
    "len(list4)"
   ]
  },
  {
   "cell_type": "code",
   "execution_count": 52,
   "id": "6b342f41",
   "metadata": {},
   "outputs": [
    {
     "data": {
      "text/plain": [
       "20"
      ]
     },
     "execution_count": 52,
     "metadata": {},
     "output_type": "execute_result"
    }
   ],
   "source": [
    "list4[1][2][1]"
   ]
  },
  {
   "cell_type": "code",
   "execution_count": 58,
   "id": "11eddea1",
   "metadata": {},
   "outputs": [
    {
     "data": {
      "text/plain": [
       "'car'"
      ]
     },
     "execution_count": 58,
     "metadata": {},
     "output_type": "execute_result"
    }
   ],
   "source": [
    "list5=[[\"car\"]]\n",
    "list5[0][0]"
   ]
  },
  {
   "cell_type": "code",
   "execution_count": null,
   "id": "28e65721",
   "metadata": {},
   "outputs": [],
   "source": [
    "print(\"red\")"
   ]
  },
  {
   "cell_type": "code",
   "execution_count": 9,
   "id": "960edf94",
   "metadata": {},
   "outputs": [],
   "source": [
    "list7=[[[[[[[[\"cherry\"],\"apple\"]]]]]]]\n",
    "len(list7)\n",
    "list7=[0]"
   ]
  },
  {
   "cell_type": "code",
   "execution_count": 2,
   "id": "b2328873",
   "metadata": {},
   "outputs": [
    {
     "name": "stdout",
     "output_type": "stream",
     "text": [
      "red\n"
     ]
    }
   ],
   "source": [
    "print(\"red\")"
   ]
  },
  {
   "cell_type": "code",
   "execution_count": 12,
   "id": "9e546651",
   "metadata": {},
   "outputs": [
    {
     "name": "stdout",
     "output_type": "stream",
     "text": [
      "mumbai\n",
      "bhopal\n",
      "chennai\n"
     ]
    }
   ],
   "source": [
    "L1=[\"hyd\",\"mumbai\",\"bhopal\",\"chennai\"]\n",
    "for i in L1:\n",
    "    if len(i)>5:\n",
    "        print(i)"
   ]
  },
  {
   "cell_type": "code",
   "execution_count": 18,
   "id": "39155489",
   "metadata": {},
   "outputs": [
    {
     "name": "stdout",
     "output_type": "stream",
     "text": [
      "HYD\n",
      "MUMBAI\n",
      "BHOPAL\n",
      "CHENNAI\n"
     ]
    }
   ],
   "source": [
    "L1=[\"hyd\",\"mumbai\",\"bhopal\",\"chennai\"]\n",
    "for i in L1:\n",
    "        print(i.upper())"
   ]
  },
  {
   "cell_type": "code",
   "execution_count": 24,
   "id": "88009a34",
   "metadata": {},
   "outputs": [
    {
     "name": "stdout",
     "output_type": "stream",
     "text": [
      "hyd\n",
      "chennai\n"
     ]
    }
   ],
   "source": [
    "l2=[\"hyd\",\"mu#bai\",\"bho#al\",\"chennai\"]\n",
    "for i in l2:\n",
    "    if \"#\" not in i:\n",
    "        print(i)"
   ]
  },
  {
   "cell_type": "code",
   "execution_count": 30,
   "id": "172a8ad2",
   "metadata": {},
   "outputs": [
    {
     "name": "stdout",
     "output_type": "stream",
     "text": [
      " \n"
     ]
    }
   ],
   "source": [
    "str1=\"hello my name is python\"\n",
    "print(min(str1))"
   ]
  },
  {
   "cell_type": "code",
   "execution_count": 46,
   "id": "27edead4",
   "metadata": {},
   "outputs": [
    {
     "data": {
      "text/plain": [
       "('python', 'hello')"
      ]
     },
     "execution_count": 46,
     "metadata": {},
     "output_type": "execute_result"
    }
   ],
   "source": [
    "str1=\"hello my name is python\"\n",
    "max(str1.split()),min(str1.split())"
   ]
  },
  {
   "cell_type": "code",
   "execution_count": 47,
   "id": "851be163",
   "metadata": {},
   "outputs": [],
   "source": [
    "qns=[\"who is pm of india?\"\n",
    "     \"what is capital of india?\"\n",
    "    \"no of states in india?\"\n",
    "    \"who is the captan of ict?\"]\n",
    "ans=[\"modi\",\"delhi\",28,\"rohit sharma\"]"
   ]
  },
  {
   "cell_type": "code",
   "execution_count": 23,
   "id": "41e99d6f",
   "metadata": {},
   "outputs": [
    {
     "name": "stdout",
     "output_type": "stream",
     "text": [
      "who is pm of india?\n",
      "enter the answer:modi\n",
      "what is capital of india?\n",
      "enter the answer:delhi\n",
      "no of states in india?\n",
      "enter the answer:28\n",
      "who is the captan of ict?\n",
      "enter the answer:rohit sharma\n"
     ]
    }
   ],
   "source": [
    "qns_list=['who is pm of india?',\n",
    "          'what is capital of india?',\n",
    "          'no of states in india?',\n",
    "          'who is the captan of ict?']\n",
    "ans_list=[\"modi\",\"delhi\",28,\"rohit sharma\"]\n",
    "marks=0\n",
    "for i in range(len(qns_list)):\n",
    "    print(qns_list[i])\n",
    "    answer=input(\"enter the answer:\").strip().casefold\n",
    "    if answer==str(ans_list[i]).casefold():\n",
    "        marks+=1\n",
    "        print(f\"your scored {marks} marks\")"
   ]
  },
  {
   "cell_type": "code",
   "execution_count": 6,
   "id": "acd62358",
   "metadata": {},
   "outputs": [
    {
     "name": "stdout",
     "output_type": "stream",
     "text": [
      "who is pm of india?\n",
      "Enter the answer: DSDS\n",
      "what is capital of india?\n",
      "Enter the answer: SDSD\n",
      "no of states in india?\n",
      "Enter the answer: DSDSD\n",
      "who is the captan of ict?\n",
      "Enter the answer: ROHIT sharma\n",
      "you scored 1 marks\n"
     ]
    }
   ],
   "source": [
    "qns_list = ['who is pm of india?',\n",
    "            'what is capital of india?',\n",
    "            'no of states in india?',\n",
    "            'who is the captan of ict?']\n",
    "ans_list = [\"modi\", \"delhi\", 28, \"rohit sharma\"]\n",
    "\n",
    "marks = 0\n",
    "for i in range(len(qns_list)):\n",
    "    print(qns_list[i])\n",
    "    answer = input(\"Enter the answer: \").casefold().replace(\" \",\"\")\n",
    "    if answer == str(ans_list[i]).replace(\" \",\"\").casefold():\n",
    "        marks =marks+1\n",
    "print(f\"you scored {marks} marks\")"
   ]
  },
  {
   "cell_type": "code",
   "execution_count": null,
   "id": "e8d8785c",
   "metadata": {},
   "outputs": [],
   "source": []
  }
 ],
 "metadata": {
  "kernelspec": {
   "display_name": "Python 3 (ipykernel)",
   "language": "python",
   "name": "python3"
  },
  "language_info": {
   "codemirror_mode": {
    "name": "ipython",
    "version": 3
   },
   "file_extension": ".py",
   "mimetype": "text/x-python",
   "name": "python",
   "nbconvert_exporter": "python",
   "pygments_lexer": "ipython3",
   "version": "3.11.5"
  }
 },
 "nbformat": 4,
 "nbformat_minor": 5
}
