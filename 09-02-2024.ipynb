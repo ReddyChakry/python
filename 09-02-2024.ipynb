{
 "cells": [
  {
   "cell_type": "code",
   "execution_count": 6,
   "id": "c1c8ab5f",
   "metadata": {},
   "outputs": [
    {
     "name": "stdout",
     "output_type": "stream",
     "text": [
      "can : 5\n",
      "you : 2\n",
      "canner : 1\n",
      "not : 1\n",
      "buy : 1\n"
     ]
    }
   ],
   "source": [
    "l1=\"can can you canner can not can you buy can\"\n",
    "list_word=l1.split()\n",
    "l2=[]\n",
    "for word in list_word:\n",
    "    if word not in l2:\n",
    "        print(word,\":\",list_word.count(word))\n",
    "        l2.append(word)"
   ]
  },
  {
   "cell_type": "markdown",
   "id": "a58ffdc4",
   "metadata": {},
   "source": [
    "# word frequency"
   ]
  },
  {
   "cell_type": "code",
   "execution_count": 10,
   "id": "d5201372",
   "metadata": {},
   "outputs": [
    {
     "name": "stdout",
     "output_type": "stream",
     "text": [
      "can 5\n",
      "you 2\n",
      "canner 1\n",
      "not 1\n",
      "buy 1\n"
     ]
    }
   ],
   "source": [
    "s1=\"can can you canner can not can you buy can\"\n",
    "list_word=s1.split()\n",
    "l1=[]\n",
    "for word in list_word:\n",
    "    if word not in l1:\n",
    "        print(word,list_word.count(word))\n",
    "        l1.append(word)"
   ]
  },
  {
   "cell_type": "code",
   "execution_count": 17,
   "id": "fc178275",
   "metadata": {},
   "outputs": [
    {
     "data": {
      "text/plain": [
       "['mumbai', 'chennai', 'banglore']"
      ]
     },
     "execution_count": 17,
     "metadata": {},
     "output_type": "execute_result"
    }
   ],
   "source": [
    "l1=[\"hyd\",\"mumbai\",\"chennai\",\"banglore\"]\n",
    "l2=[]\n",
    "for i in l1:\n",
    "    if len(i)>5:\n",
    "        l2.append(i)\n",
    "l2"
   ]
  },
  {
   "cell_type": "code",
   "execution_count": 18,
   "id": "a2d31c11",
   "metadata": {},
   "outputs": [
    {
     "data": {
      "text/plain": [
       "[1, 4, 9, 16, 25, 36, 49, 64, 81, 100]"
      ]
     },
     "execution_count": 18,
     "metadata": {},
     "output_type": "execute_result"
    }
   ],
   "source": [
    "num=[]\n",
    "for i in range(1,11):\n",
    "    num.append(i*i)\n",
    "num"
   ]
  },
  {
   "cell_type": "markdown",
   "id": "ec4d5690",
   "metadata": {},
   "source": [
    "# list comprehension"
   ]
  },
  {
   "cell_type": "markdown",
   "id": "ce6b737a",
   "metadata": {},
   "source": [
    "# pattern-1"
   ]
  },
  {
   "cell_type": "code",
   "execution_count": 28,
   "id": "9ba50794",
   "metadata": {},
   "outputs": [
    {
     "data": {
      "text/plain": [
       "[1, 4, 9, 16, 25, 36, 49, 64, 81, 100]"
      ]
     },
     "execution_count": 28,
     "metadata": {},
     "output_type": "execute_result"
    }
   ],
   "source": [
    "num=[]\n",
    "for i in range(1,11):\n",
    "    num.append(i*i)\n",
    "num"
   ]
  },
  {
   "cell_type": "code",
   "execution_count": 27,
   "id": "dbae0005",
   "metadata": {},
   "outputs": [
    {
     "data": {
      "text/plain": [
       "[1, 4, 9, 16, 25, 36, 49, 64, 81, 100]"
      ]
     },
     "execution_count": 27,
     "metadata": {},
     "output_type": "execute_result"
    }
   ],
   "source": [
    "num=[(i*i) for i in range(1,11)]\n",
    "num"
   ]
  },
  {
   "cell_type": "code",
   "execution_count": 33,
   "id": "79fcd2ca",
   "metadata": {},
   "outputs": [
    {
     "data": {
      "text/plain": [
       "['Hyd', 'Mumbai']"
      ]
     },
     "execution_count": 33,
     "metadata": {},
     "output_type": "execute_result"
    }
   ],
   "source": [
    "l1=[i.capitalize() for i in l1]\n",
    "l1"
   ]
  },
  {
   "cell_type": "markdown",
   "id": "f223c09c",
   "metadata": {},
   "source": [
    "# pattern 2"
   ]
  },
  {
   "cell_type": "code",
   "execution_count": 37,
   "id": "b5f9b3f3",
   "metadata": {},
   "outputs": [
    {
     "data": {
      "text/plain": [
       "['mumbai', 'chennai', 'banglore']"
      ]
     },
     "execution_count": 37,
     "metadata": {},
     "output_type": "execute_result"
    }
   ],
   "source": [
    "l1=[\"hyd\",\"mumbai\",\"chennai\",\"banglore\"]\n",
    "l2=[i for i in l1 if (len(i))>5]\n",
    "l2"
   ]
  },
  {
   "cell_type": "markdown",
   "id": "c6e41828",
   "metadata": {},
   "source": [
    "# pattern 3"
   ]
  },
  {
   "cell_type": "code",
   "execution_count": 48,
   "id": "90d9cdca",
   "metadata": {},
   "outputs": [
    {
     "data": {
      "text/plain": [
       "['odd 1',\n",
       " 'even 2',\n",
       " 'odd 3',\n",
       " 'even 4',\n",
       " 'odd 5',\n",
       " 'even 6',\n",
       " 'odd 7',\n",
       " 'even 8',\n",
       " 'odd 9',\n",
       " 'even 10',\n",
       " 'odd 11',\n",
       " 'even 12',\n",
       " 'odd 13',\n",
       " 'even 14',\n",
       " 'odd 15',\n",
       " 'even 16',\n",
       " 'odd 17',\n",
       " 'even 18',\n",
       " 'odd 19',\n",
       " 'even 20']"
      ]
     },
     "execution_count": 48,
     "metadata": {},
     "output_type": "execute_result"
    }
   ],
   "source": [
    "l=[f\"even {i}\"if i%2==0 else f\"odd {i}\"for i in range(1,21)]\n",
    "l"
   ]
  },
  {
   "cell_type": "code",
   "execution_count": null,
   "id": "950db4ce",
   "metadata": {},
   "outputs": [],
   "source": []
  }
 ],
 "metadata": {
  "kernelspec": {
   "display_name": "Python 3 (ipykernel)",
   "language": "python",
   "name": "python3"
  },
  "language_info": {
   "codemirror_mode": {
    "name": "ipython",
    "version": 3
   },
   "file_extension": ".py",
   "mimetype": "text/x-python",
   "name": "python",
   "nbconvert_exporter": "python",
   "pygments_lexer": "ipython3",
   "version": "3.11.5"
  }
 },
 "nbformat": 4,
 "nbformat_minor": 5
}
